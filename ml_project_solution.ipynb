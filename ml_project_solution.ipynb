{
 "cells": [
  {
   "attachments": {},
   "cell_type": "markdown",
   "metadata": {},
   "source": [
    "# **Image processing using OpenCV**\n",
    "## Detecting the red and blue objects within the given frame and making a line between them"
   ]
  },
  {
   "attachments": {},
   "cell_type": "markdown",
   "metadata": {},
   "source": [
    "## Import Libraries"
   ]
  },
  {
   "cell_type": "code",
   "execution_count": 30,
   "metadata": {},
   "outputs": [],
   "source": [
    "import cv2\n",
    "import numpy as np\n",
    "\n",
    "# Load the image\n",
    "# image = cv2.imread('image-8.jpg')\n"
   ]
  },
  {
   "attachments": {},
   "cell_type": "markdown",
   "metadata": {},
   "source": [
    "### Masking red and blue"
   ]
  },
  {
   "cell_type": "code",
   "execution_count": 31,
   "metadata": {},
   "outputs": [],
   "source": [
    "def PreProcessing(frame):\n",
    "    # Convert the image to HSV color space\n",
    "    hsv = cv2.cvtColor(frame, cv2.COLOR_BGR2HSV)\n",
    "\n",
    "    # Define the lower and upper boundaries for red color\n",
    "    lower_red1 = np.array([0, 90, 90])\n",
    "    upper_red1 = np.array([8, 255, 255])\n",
    "    lower_red2 = np.array([172, 90, 90])\n",
    "    upper_red2 = np.array([180, 255, 255])\n",
    "\n",
    "    # Define the lower and upper boundaries for blue color\n",
    "    lower_blue = np.array([90, 90, 90])\n",
    "    upper_blue = np.array([130, 255, 255])\n",
    "    \n",
    "    # Create masks for red and blue colors\n",
    "    red_mask1 = cv2.inRange(hsv, lower_red1, upper_red1)\n",
    "    red_mask2 = cv2.inRange(hsv, lower_red2, upper_red2)\n",
    "    blue_mask = cv2.inRange(hsv, lower_blue, upper_blue)\n",
    "    \n",
    "    # Combine the red and blue masks\n",
    "    combined_mask = cv2.bitwise_or(red_mask1, red_mask2)\n",
    "    \n",
    "    # Perform morphological operations to refine the mask (optional)\n",
    "    kernel = np.ones((5, 5), np.uint8)\n",
    "    combined_mask = cv2.erode(combined_mask, kernel, iterations=1)\n",
    "    combined_mask = cv2.dilate(combined_mask, kernel, iterations=1)\n",
    "    blue_mask = cv2.erode(blue_mask, kernel, iterations=1)\n",
    "    blue_mask = cv2.dilate(blue_mask, kernel, iterations=1)\n",
    "    \n",
    "    # Find contours for the reference colors\n",
    "    red_reference_contours, _ = cv2.findContours(combined_mask, cv2.RETR_EXTERNAL, cv2.CHAIN_APPROX_SIMPLE)\n",
    "    blue_reference_contours, _ = cv2.findContours(blue_mask, cv2.RETR_EXTERNAL, cv2.CHAIN_APPROX_SIMPLE)\n",
    "    \n",
    "    return (red_reference_contours,blue_reference_contours)"
   ]
  },
  {
   "attachments": {},
   "cell_type": "markdown",
   "metadata": {},
   "source": [
    "### making rectangle and centerpoint around contours:-"
   ]
  },
  {
   "cell_type": "code",
   "execution_count": 32,
   "metadata": {},
   "outputs": [],
   "source": [
    "def markingRectangles(contours,frame):\n",
    "    color = (0, 255, 0)  # Green color for rectangles\n",
    "    min_contour_area = 100\n",
    "    cont = max(contours, key=cv2.contourArea)\n",
    "    area = cv2.contourArea(cont)\n",
    "    if area > min_contour_area:\n",
    "        # Draw rectangle around the largest red contour\n",
    "            #detecting rectangle\n",
    "            x, y, w, h = cv2.boundingRect(cont)\n",
    "            w+=x\n",
    "            h+=y\n",
    "            #Making rectangle\n",
    "            cv2.rectangle(frame, (x, y), (w,h), color, 2)\n",
    "            p = int((x + w) / 2)\n",
    "            q = int((y + h) / 2)\n",
    "            cv2.circle(frame, (p, q), radius=3, color=(0,0,0), thickness=-1)\n",
    "            return (p,q)\n",
    "    else: return (-1,-1)\n",
    "    "
   ]
  },
  {
   "attachments": {},
   "cell_type": "markdown",
   "metadata": {},
   "source": [
    "### Make a line between the Rectangle"
   ]
  },
  {
   "cell_type": "code",
   "execution_count": 33,
   "metadata": {},
   "outputs": [],
   "source": [
    "def gettingLine(red_contour, blue_contour, frame):\n",
    "    # min_contour_area = 200\n",
    "    if len(red_contour) > 0 and len(blue_contour) > 0:\n",
    "        \n",
    "        p1,q1=markingRectangles(red_contour,frame)\n",
    "        p2,q2=markingRectangles(blue_contour,frame)\n",
    "        if p1>=0 and q1>=0 and p2>=0 and q2>=0:\n",
    "            cv2.line(frame, (p1,q1), (p2, q2), (0, 255, 0), thickness=3)\n",
    "\n",
    "            ax=(p1 + p2) / 2\n",
    "            ay=(q1 + q2) / 2\n",
    "\n",
    "            cv2.circle(frame, (int(ax), int(ay)), radius=2, color=(0, 0, 0), thickness=-1)\n",
    "        \n",
    "    cv2.imshow('hehe', frame)\n",
    "    \n"
   ]
  },
  {
   "attachments": {},
   "cell_type": "markdown",
   "metadata": {},
   "source": [
    "### Execution Phase"
   ]
  },
  {
   "cell_type": "code",
   "execution_count": null,
   "metadata": {},
   "outputs": [],
   "source": [
    "cap = cv2.VideoCapture(0)\n",
    "\n",
    "while(True):\n",
    "    \n",
    "    ret, frame = cap.read()\n",
    "    #flipping cause it shows mirror image otherwise    \n",
    "    frame = cv2.flip(frame,1)\n",
    "\n",
    "    # combined_window = np.hstack([gray_flip])\n",
    "    # min_contour_area=200\n",
    "    \n",
    "    contours=0\n",
    "    \n",
    "    #Function area...\n",
    "    \n",
    "    red,blue=PreProcessing(frame=frame)\n",
    "    # contours=MaskOperations(combined_mask)\n",
    "    gettingLine(frame=frame,red_contour=red,blue_contour=blue)\n",
    "    # print(contours)\n",
    "    \n",
    "    if cv2.waitKey(1) & 0xFF == ord('q'):\n",
    "        break\n",
    "    # break\n",
    "\n",
    "# When everything done, release the capture\n",
    "\n",
    "cap.release()\n",
    "cv2.destroyAllWindows()\n",
    "\n"
   ]
  }
 ],
 "metadata": {
  "kernelspec": {
   "display_name": "tensorflow_learn",
   "language": "python",
   "name": "python3"
  },
  "language_info": {
   "codemirror_mode": {
    "name": "ipython",
    "version": 3
   },
   "file_extension": ".py",
   "mimetype": "text/x-python",
   "name": "python",
   "nbconvert_exporter": "python",
   "pygments_lexer": "ipython3",
   "version": "3.10.9"
  },
  "orig_nbformat": 4
 },
 "nbformat": 4,
 "nbformat_minor": 2
}
